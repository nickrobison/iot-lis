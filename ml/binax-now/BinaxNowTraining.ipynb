{
 "cells": [
  {
   "cell_type": "code",
   "execution_count": null,
   "metadata": {},
   "outputs": [],
   "source": [
    "import matplotlib.pyplot as plt\n",
    "import numpy as np\n",
    "import os\n",
    "import tensorflow as tf\n",
    "import tensorflow_io as tfio\n",
    "\n",
    "from tensorflow.keras.preprocessing import image_dataset_from_directory\n",
    "from tensorflow.keras import layers"
   ]
  },
  {
   "cell_type": "code",
   "execution_count": null,
   "metadata": {},
   "outputs": [],
   "source": [
    "BATCH_SIZE=32\n",
    "IMG_SIZE=(224, 224)\n",
    "# IMG_SIZE=(1024, 1024)\n",
    "SEED=123"
   ]
  },
  {
   "cell_type": "code",
   "execution_count": null,
   "metadata": {},
   "outputs": [],
   "source": [
    "train_dataset = image_dataset_from_directory(\"train\", shuffle=True, batch_size=BATCH_SIZE, image_size=IMG_SIZE, validation_split=0.2, subset=\"training\", seed=SEED)"
   ]
  },
  {
   "cell_type": "code",
   "execution_count": null,
   "metadata": {},
   "outputs": [],
   "source": [
    "validation_dataset = image_dataset_from_directory(\"train\", shuffle=True, batch_size=BATCH_SIZE, image_size=IMG_SIZE, validation_split=0.2, subset=\"validation\", seed=SEED)"
   ]
  },
  {
   "cell_type": "code",
   "execution_count": null,
   "metadata": {},
   "outputs": [],
   "source": [
    "test_dataset = image_dataset_from_directory(\"test\", shuffle=True, batch_size=BATCH_SIZE, image_size=IMG_SIZE)"
   ]
  },
  {
   "cell_type": "code",
   "execution_count": null,
   "metadata": {},
   "outputs": [],
   "source": [
    "class_names = train_dataset.class_names"
   ]
  },
  {
   "cell_type": "code",
   "execution_count": null,
   "metadata": {},
   "outputs": [],
   "source": [
    "plt.figure(figsize=(10, 10))\n",
    "for images, labels in train_dataset.take(1):\n",
    "    for i in range(9):\n",
    "        ax = plt.subplot(3, 3, i + 1)\n",
    "        plt.imshow(images[i].numpy().astype(\"uint8\"))\n",
    "        plt.title(class_names[labels[i]])\n",
    "        plt.axis(\"off\")"
   ]
  },
  {
   "cell_type": "code",
   "execution_count": null,
   "metadata": {},
   "outputs": [],
   "source": [
    "AUTOTUNE = tf.data.experimental.AUTOTUNE\n",
    "\n",
    "train_dataset = train_dataset.prefetch(buffer_size=AUTOTUNE)\n",
    "validation_dataset = validation_dataset.prefetch(buffer_size=AUTOTUNE)\n",
    "test_dataset = test_dataset.prefetch(buffer_size=AUTOTUNE)"
   ]
  },
  {
   "cell_type": "code",
   "execution_count": null,
   "metadata": {},
   "outputs": [],
   "source": [
    "data_augmentation = tf.keras.Sequential([\n",
    "  tf.keras.layers.experimental.preprocessing.RandomFlip('horizontal'),\n",
    "  tf.keras.layers.experimental.preprocessing.RandomRotation(0.2),\n",
    "])"
   ]
  },
  {
   "cell_type": "code",
   "execution_count": null,
   "metadata": {},
   "outputs": [],
   "source": [
    "# Create the base model from the pre-trained model ResNet152 V2\n",
    "IMG_SHAPE = IMG_SIZE + (3,)\n",
    "# ResNet\n",
    "# preprocess_input = tf.keras.applications.resnet_v2.preprocess_input\n",
    "# base_model = tf.keras.applications.ResNet152V2(\n",
    "#     include_top=False, weights='imagenet',\n",
    "#     input_shape=IMG_SHAPE, pooling=None, classes=len(class_names),\n",
    "#     classifier_activation='softmax'\n",
    "# )\n",
    "\n",
    "#MobileNet\n",
    "preprocess_input = tf.keras.applications.mobilenet_v2.preprocess_input\n",
    "base_model = tf.keras.applications.MobileNetV2(\n",
    "    input_shape=IMG_SHAPE, alpha=1.0, include_top=False, weights='imagenet', classes=len(class_names),\n",
    "    classifier_activation='softmax')\n",
    "\n",
    "#DenseNet201\n",
    "# preprocess_input = tf.keras.applications.densenet.preprocess_input\n",
    "# base_model = tf.keras.applications.DenseNet201(\n",
    "#     include_top=False, weights='imagenet',\n",
    "#     input_shape=IMG_SHAPE, classes=len(class_names)\n",
    "# )\n",
    "\n",
    "#InceptionV2\n",
    "# preprocess_input = tf.keras.applications.inception_resnet_v2.preprocess_input\n",
    "# base_model = tf.keras.applications.InceptionResNetV2(\n",
    "#     include_top=False, weights='imagenet',\n",
    "#     input_shape=IMG_SHAPE, classes=len(class_names), classifier_activation='softmax')\n",
    "\n",
    "# EfficientNet B3\n",
    "# preprocess_input = tf.keras.applications.efficientnet.preprocess_input\n",
    "# base_model = tf.keras.applications.EfficientNetB7(\n",
    "#     include_top=False, weights='imagenet',\n",
    "#     input_shape=IMG_SHAPE, pooling=None, classes=len(class_names),\n",
    "#     classifier_activation='softmax')"
   ]
  },
  {
   "cell_type": "code",
   "execution_count": null,
   "metadata": {},
   "outputs": [],
   "source": [
    "image_batch, label_batch = next(iter(train_dataset))\n",
    "feature_batch = base_model(image_batch)\n",
    "print(feature_batch.shape)"
   ]
  },
  {
   "cell_type": "code",
   "execution_count": null,
   "metadata": {},
   "outputs": [],
   "source": [
    "base_model.trainable = False\n",
    "base_model.summary()"
   ]
  },
  {
   "cell_type": "code",
   "execution_count": null,
   "metadata": {},
   "outputs": [],
   "source": [
    "global_average_layer = tf.keras.layers.GlobalAveragePooling2D()\n",
    "feature_batch_average = global_average_layer(feature_batch)\n",
    "print(feature_batch_average.shape)"
   ]
  },
  {
   "cell_type": "code",
   "execution_count": null,
   "metadata": {},
   "outputs": [],
   "source": [
    "prediction_layer = tf.keras.layers.Dense(1)\n",
    "prediction_batch = prediction_layer(feature_batch_average)\n",
    "print(prediction_batch.shape)"
   ]
  },
  {
   "cell_type": "code",
   "execution_count": null,
   "metadata": {},
   "outputs": [],
   "source": [
    "# Let's try to create our own Keras layer for converting to red\n",
    "class RedAlert(layers.Layer):\n",
    "    def __init__(self, img_shape, scale = 1.0, name=None, **kwargs):\n",
    "        self.img_shape = img_shape\n",
    "        self.scale = scale\n",
    "        self.mask = tf.broadcast_to(tf.constant([1., 0., 0.]), img_shape)\n",
    "        super(RedAlert, self).__init__(name=name, **kwargs)\n",
    "        \n",
    "    def call(self, inputs):\n",
    "        red_only = inputs * self.mask\n",
    "        c = tf.constant([1.])\n",
    "        scale = tf.broadcast_to(c, self.img_shape)\n",
    "        m2 = red_only * scale\n",
    "        return tf.clip_by_value(m2, clip_value_min = 0, clip_value_max=255)"
   ]
  },
  {
   "cell_type": "code",
   "execution_count": null,
   "metadata": {},
   "outputs": [],
   "source": [
    "class Colorspace(layers.Layer):\n",
    "    def __init__(self, colorspace, name=None, **kwargs):\n",
    "        self.colorspace = colorspace\n",
    "        super(Colorspace, self).__init__(name=name, **kwargs)\n",
    "        \n",
    "    def call(self, inputs):\n",
    "        return self.colorspace(inputs)\n",
    "        "
   ]
  },
  {
   "cell_type": "code",
   "execution_count": null,
   "metadata": {},
   "outputs": [],
   "source": [
    "inputs = tf.keras.Input(shape=IMG_SHAPE)\n",
    "x = data_augmentation(inputs)\n",
    "\n",
    "process = tf.keras.Sequential([\n",
    "#     RedAlert(img_shape = IMG_SHAPE, scale = 1.3),\n",
    "#     tf.keras.layers.experimental.preprocessing.Rescaling(1./127.5, offset= -1),\n",
    "    tf.keras.layers.experimental.preprocessing.Rescaling(1./255), # Rescale [0,1] for rgb processing\n",
    "    Colorspace(colorspace = tf.image.rgb_to_hsv),\n",
    "    tf.keras.layers.experimental.preprocessing.Rescaling(1./.5, offset= -1), # rescale [-1, 1] for model\n",
    "])\n",
    "\n",
    "x = process(x)\n",
    "x = base_model(x, training=True)\n",
    "x = global_average_layer(x)\n",
    "x = tf.keras.layers.Dropout(0.2)(x)\n",
    "outputs = prediction_layer(x)\n",
    "model = tf.keras.Model(inputs, outputs)"
   ]
  },
  {
   "cell_type": "code",
   "execution_count": null,
   "metadata": {},
   "outputs": [],
   "source": [
    "base_learning_rate = 0.0001\n",
    "model.compile(optimizer=tf.keras.optimizers.Adam(lr=base_learning_rate),\n",
    "              loss=tf.keras.losses.BinaryCrossentropy(from_logits=True),\n",
    "              metrics=['accuracy'])"
   ]
  },
  {
   "cell_type": "code",
   "execution_count": null,
   "metadata": {
    "scrolled": true
   },
   "outputs": [],
   "source": [
    "model.summary()"
   ]
  },
  {
   "cell_type": "code",
   "execution_count": null,
   "metadata": {},
   "outputs": [],
   "source": [
    "history = model.fit(train_dataset,\n",
    "                    epochs=50,\n",
    "                    validation_data=validation_dataset)"
   ]
  },
  {
   "cell_type": "code",
   "execution_count": null,
   "metadata": {},
   "outputs": [],
   "source": []
  }
 ],
 "metadata": {
  "kernelspec": {
   "display_name": "Python 3",
   "language": "python",
   "name": "python3"
  },
  "language_info": {
   "codemirror_mode": {
    "name": "ipython",
    "version": 3
   },
   "file_extension": ".py",
   "mimetype": "text/x-python",
   "name": "python",
   "nbconvert_exporter": "python",
   "pygments_lexer": "ipython3",
   "version": "3.7.9"
  }
 },
 "nbformat": 4,
 "nbformat_minor": 4
}
